{
 "cells": [
  {
   "cell_type": "code",
   "execution_count": null,
   "id": "47b4e345",
   "metadata": {},
   "outputs": [
    {
     "name": "stdout",
     "output_type": "stream",
     "text": [
      "Percentage of missing values per column:\n",
      "UID             0.000000\n",
      "rainfall_mm     0.000000\n",
      "ndvi_value     94.093512\n",
      "dtype: float64\n"
     ]
    }
   ],
   "source": [
    "import pandas as pd\n",
    "\n",
    "# Load the CSV file into a DataFrame\n",
    "file_path = \"Datasets/GC_final/combined_lst_data.csv\"  # Replace with the path to your CSV file\n",
    "data = pd.read_csv(file_path)\n",
    "\n",
    "# Calculate the percentage of missing values per column\n",
    "missing_percentage = data.isnull().mean() * 100\n",
    "\n",
    "# Display the result\n",
    "print(\"Percentage of missing values per column:\")\n",
    "print(missing_percentage)"
   ]
  },
  {
   "cell_type": "code",
   "execution_count": 3,
   "id": "d815935a",
   "metadata": {},
   "outputs": [
    {
     "name": "stdout",
     "output_type": "stream",
     "text": [
      "Percentage of missing values per column:\n",
      "NAME_0         0.000000\n",
      "NAME_1         0.000000\n",
      "NAME_2         0.000000\n",
      "GID_2          0.000000\n",
      "date_code      0.000000\n",
      "ndvi_value     0.286348\n",
      "date           0.000000\n",
      "year           0.000000\n",
      "source_file    0.000000\n",
      "dtype: float64\n"
     ]
    }
   ],
   "source": [
    "import pandas as pd\n",
    "\n",
    "# Load the CSV file into a DataFrame\n",
    "file_path = \"Datasets/GC_final/combined_ndvi_data.csv\"  # Replace with the path to your CSV file\n",
    "data = pd.read_csv(file_path)\n",
    "\n",
    "# Calculate the percentage of missing values per column\n",
    "missing_percentage = data.isnull().mean() * 100\n",
    "\n",
    "# Display the result\n",
    "print(\"Percentage of missing values per column:\")\n",
    "print(missing_percentage)"
   ]
  },
  {
   "cell_type": "code",
   "execution_count": 2,
   "id": "c9f0a6e0",
   "metadata": {},
   "outputs": [
    {
     "name": "stdout",
     "output_type": "stream",
     "text": [
      "Percentage of missing values per column:\n",
      "NAME_0         0.000000\n",
      "NAME_1         0.000000\n",
      "NAME_2         0.000000\n",
      "GID_2          0.000000\n",
      "date_code      0.000000\n",
      "rainfall_mm    7.269788\n",
      "date           0.000000\n",
      "year           0.000000\n",
      "source_file    0.000000\n",
      "dtype: float64\n"
     ]
    }
   ],
   "source": [
    "import pandas as pd\n",
    "\n",
    "# Load the CSV file into a DataFrame\n",
    "file_path = \"Datasets/GC_final/combined_rainfall_data.csv\"  # Replace with the path to your CSV file\n",
    "data = pd.read_csv(file_path)\n",
    "\n",
    "# Calculate the percentage of missing values per column\n",
    "missing_percentage = data.isnull().mean() * 100\n",
    "\n",
    "# Display the result\n",
    "print(\"Percentage of missing values per column:\")\n",
    "print(missing_percentage)"
   ]
  },
  {
   "cell_type": "code",
   "execution_count": 7,
   "id": "f9a73e83",
   "metadata": {},
   "outputs": [
    {
     "name": "stdout",
     "output_type": "stream",
     "text": [
      "Percentage of missing values in LST column: 5.34%\n",
      "All missing values in the LST column have been successfully filled.\n",
      "Cleaned dataset saved as Datasets/GC_final/final_lst.csv\n"
     ]
    }
   ],
   "source": [
    "import pandas as pd\n",
    "\n",
    "# Step 1: Load the LST CSV file\n",
    "file_path = \"Datasets/GC_final/combined_lst_data.csv\"  # Replace with the actual path to your LST CSV file\n",
    "data = pd.read_csv(file_path)\n",
    "\n",
    "# Step 2: Check the percentage of missing values in the LST column\n",
    "missing_percentage = data['lst_value'].isnull().mean() * 100\n",
    "print(f\"Percentage of missing values in LST column: {missing_percentage:.2f}%\")\n",
    "\n",
    "# Step 3: Fill missing values using linear interpolation\n",
    "# Use 'limit_direction' to handle gaps at the beginning or end of the dataset\n",
    "data['lst_value'] = data['lst_value'].interpolate(method='linear', limit_direction='both')\n",
    "\n",
    "# Step 4: Verify if all missing values are filled\n",
    "remaining_missing = data['lst_value'].isnull().sum()\n",
    "if remaining_missing == 0:\n",
    "    print(\"All missing values in the LST column have been successfully filled.\")\n",
    "else:\n",
    "    print(f\"There are still {remaining_missing} missing values in the LST column.\")\n",
    "\n",
    "# Step 5: Save the cleaned dataset as a new CSV file\n",
    "output_file = \"Datasets/GC_final/final_lst.csv\"  # Name of the output file\n",
    "data.to_csv(output_file, index=False)\n",
    "print(f\"Cleaned dataset saved as {output_file}\")"
   ]
  },
  {
   "cell_type": "code",
   "execution_count": 8,
   "id": "e441c08d",
   "metadata": {},
   "outputs": [
    {
     "name": "stdout",
     "output_type": "stream",
     "text": [
      "Percentage of missing values in NDVI column: 0.29%\n",
      "All missing values in the NDVI column have been successfully filled.\n",
      "Cleaned dataset saved as Datasets/GC_final/final_ndvi.csv\n"
     ]
    }
   ],
   "source": [
    "import pandas as pd\n",
    "\n",
    "# Step 1: Load the NDVI CSV file\n",
    "file_path = \"Datasets/GC_final/combined_ndvi_data.csv\"  # Replace with the actual path to your NDVI CSV file\n",
    "data = pd.read_csv(file_path)\n",
    "\n",
    "# Step 2: Check the percentage of missing values in the NDVI column\n",
    "missing_percentage = data['ndvi_value'].isnull().mean() * 100\n",
    "print(f\"Percentage of missing values in NDVI column: {missing_percentage:.2f}%\")\n",
    "\n",
    "# Step 3: Fill missing values using linear interpolation\n",
    "# Use 'limit_direction' to handle gaps at the beginning or end of the dataset\n",
    "data['ndvi_value'] = data['ndvi_value'].interpolate(method='linear', limit_direction='both')\n",
    "\n",
    "# Step 4: Verify if all missing values are filled\n",
    "remaining_missing = data['ndvi_value'].isnull().sum()\n",
    "if remaining_missing == 0:\n",
    "    print(\"All missing values in the NDVI column have been successfully filled.\")\n",
    "else:\n",
    "    print(f\"There are still {remaining_missing} missing values in the NDVI column.\")\n",
    "\n",
    "# Step 5: Save the cleaned dataset as a new CSV file\n",
    "output_file = \"Datasets/GC_final/final_ndvi.csv\"  # Name of the output file\n",
    "data.to_csv(output_file, index=False)\n",
    "print(f\"Cleaned dataset saved as {output_file}\")"
   ]
  },
  {
   "cell_type": "code",
   "execution_count": 12,
   "id": "fd64b26c",
   "metadata": {},
   "outputs": [
    {
     "name": "stdout",
     "output_type": "stream",
     "text": [
      "Percentage of missing values in Rainfall column: 7.27%\n",
      "All missing values in the Rainfall column have been successfully filled.\n",
      "Cleaned dataset saved as Datasets/GC_final/final_rainfall.csv\n"
     ]
    }
   ],
   "source": [
    "import pandas as pd\n",
    "from statsmodels.tsa.seasonal import seasonal_decompose\n",
    "\n",
    "# Step 1: Load the Rainfall CSV file\n",
    "file_path = \"Datasets/GC_final/combined_rainfall_data.csv\"  # Replace with the actual path to your Rainfall CSV file\n",
    "data = pd.read_csv(file_path)\n",
    "\n",
    "# Step 2: Check the percentage of missing values in the Rainfall column\n",
    "missing_percentage = data['rainfall_mm'].isnull().mean() * 100\n",
    "print(f\"Percentage of missing values in Rainfall column: {missing_percentage:.2f}%\")\n",
    "\n",
    "# Step 3: Fill missing values using seasonal decomposition + linear interpolation\n",
    "if len(data) > 365:  # Ensure there's enough data for seasonal decomposition\n",
    "    # First, fill missing values temporarily using linear interpolation\n",
    "    temp_filled = data['rainfall_mm'].interpolate(method='linear', limit_direction='both')\n",
    "    \n",
    "    # Perform seasonal decomposition on the temporarily filled data\n",
    "    decomposed = seasonal_decompose(temp_filled, model='additive', period=365)\n",
    "    \n",
    "    # Extract the components\n",
    "    trend = decomposed.trend\n",
    "    seasonal = decomposed.seasonal\n",
    "    resid = decomposed.resid\n",
    "    \n",
    "    # Interpolate each component separately\n",
    "    trend_interpolated = trend.interpolate(method='linear', limit_direction='both')\n",
    "    seasonal_interpolated = seasonal.interpolate(method='linear', limit_direction='both')\n",
    "    resid_interpolated = resid.interpolate(method='linear', limit_direction='both')\n",
    "    \n",
    "    # Reconstruct the rainfall data\n",
    "    data['rainfall_mm'] = trend_interpolated + seasonal_interpolated + resid_interpolated\n",
    "else:\n",
    "    # If the dataset is too small for seasonal decomposition, use simple linear interpolation\n",
    "    data['rainfall_mm'] = data['rainfall_mm'].interpolate(method='linear', limit_direction='both')\n",
    "\n",
    "# Step 4: Verify if all missing values are filled\n",
    "remaining_missing = data['rainfall_mm'].isnull().sum()\n",
    "if remaining_missing == 0:\n",
    "    print(\"All missing values in the Rainfall column have been successfully filled.\")\n",
    "else:\n",
    "    print(f\"There are still {remaining_missing} missing values in the Rainfall column.\")\n",
    "\n",
    "# Step 5: Save the cleaned dataset as a new CSV file\n",
    "output_file = \"Datasets/GC_final/final_rainfall.csv\"  # Name of the output file\n",
    "data.to_csv(output_file, index=False)\n",
    "print(f\"Cleaned dataset saved as {output_file}\")"
   ]
  },
  {
   "cell_type": "code",
   "execution_count": 4,
   "id": "940340e8",
   "metadata": {},
   "outputs": [
    {
     "name": "stdout",
     "output_type": "stream",
     "text": [
      "Percentage of missing values per column:\n",
      "UID             0.000000\n",
      "rainfall_mm     0.000000\n",
      "ndvi_value     94.093512\n",
      "lst_value      87.794267\n",
      "dtype: float64\n"
     ]
    }
   ],
   "source": [
    "import pandas as pd\n",
    "\n",
    "# Load the CSV file into a DataFrame\n",
    "file_path = \"rainfall_ndvi_lst_merged.csv\"  # Replace with the path to your CSV file\n",
    "data = pd.read_csv(file_path)\n",
    "\n",
    "# Calculate the percentage of missing values per column\n",
    "missing_percentage = data.isnull().mean() * 100\n",
    "\n",
    "# Display the result\n",
    "print(\"Percentage of missing values per column:\")\n",
    "print(missing_percentage)"
   ]
  },
  {
   "cell_type": "code",
   "execution_count": 2,
   "id": "26749915",
   "metadata": {},
   "outputs": [
    {
     "name": "stdout",
     "output_type": "stream",
     "text": [
      "Percentage of missing values per column:\n",
      "UID            0.0\n",
      "GID_2          0.0\n",
      "DATE           0.0\n",
      "RAINFALL_MM    0.0\n",
      "NDVI_VALUE     0.0\n",
      "LST_VALUE      0.0\n",
      "dtype: float64\n"
     ]
    }
   ],
   "source": [
    "import pandas as pd\n",
    "\n",
    "# Load the CSV file into a DataFrame\n",
    "file_path = \"rainfall_ndvi_lst_cleaned.csv\"  # Replace with the path to your CSV file\n",
    "data = pd.read_csv(file_path)\n",
    "\n",
    "# Calculate the percentage of missing values per column\n",
    "missing_percentage = data.isnull().mean() * 100\n",
    "\n",
    "# Display the result\n",
    "print(\"Percentage of missing values per column:\")\n",
    "print(missing_percentage)\n"
   ]
  },
  {
   "cell_type": "code",
   "execution_count": 4,
   "id": "2ea76752",
   "metadata": {},
   "outputs": [
    {
     "name": "stdout",
     "output_type": "stream",
     "text": [
      "Percentage of missing values per column:\n",
      "UID            0.000000\n",
      "NAME_0         0.000000\n",
      "NAME_1         0.000000\n",
      "NAME_2         0.000000\n",
      "GID_2          0.000000\n",
      "date_code      0.000000\n",
      "rainfall_mm    0.000000\n",
      "date           0.000000\n",
      "year           0.000000\n",
      "source_file    0.000000\n",
      "ndvi_value     5.459736\n",
      "dtype: float64\n",
      "\n",
      "Number of unique values in the 'NAME_2' column: 239\n"
     ]
    }
   ],
   "source": [
    "import pandas as pd\n",
    "\n",
    "# Load the CSV file into a DataFrame\n",
    "file_path = \"rainfall_ndvi_filled.csv\"  # Replace with the path to your CSV file\n",
    "data = pd.read_csv(file_path)\n",
    "\n",
    "# Calculate the percentage of missing values per column\n",
    "missing_percentage = data.isnull().mean() * 100\n",
    "\n",
    "# Display the result\n",
    "print(\"Percentage of missing values per column:\")\n",
    "print(missing_percentage)\n",
    "\n",
    "# Calculate the number of unique values in the 'NAME_2' column\n",
    "if 'NAME_2' in data.columns:  # Check if the 'NAME_2' column exists\n",
    "    unique_NAME_2_count = data['NAME_2'].nunique()\n",
    "    print(f\"\\nNumber of unique values in the 'NAME_2' column: {unique_NAME_2_count}\")\n",
    "else:\n",
    "    print(\"\\nThe 'NAME_2' column does not exist in the dataset.\")"
   ]
  }
 ],
 "metadata": {
  "kernelspec": {
   "display_name": "Python 3",
   "language": "python",
   "name": "python3"
  },
  "language_info": {
   "codemirror_mode": {
    "name": "ipython",
    "version": 3
   },
   "file_extension": ".py",
   "mimetype": "text/x-python",
   "name": "python",
   "nbconvert_exporter": "python",
   "pygments_lexer": "ipython3",
   "version": "3.13.5"
  }
 },
 "nbformat": 4,
 "nbformat_minor": 5
}
